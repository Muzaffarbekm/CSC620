{
 "cells": [
  {
   "cell_type": "code",
   "execution_count": 4,
   "metadata": {},
   "outputs": [
    {
     "name": "stdout",
     "output_type": "stream",
     "text": [
      "\n",
      "CSC620 – Naive Bayes Text Classification (Sarcasm Detection)\n",
      "\n",
      "Goal:\n",
      "- Train and evaluate a Naive Bayes text classifier using scikit-learn.\n",
      "- Dataset: News Headlines Dataset for Sarcasm Detection.\n",
      "  'is_sarcastic' = 1 means sarcastic, 0 means not sarcastic.\n",
      "- Model: Multinomial Naive Bayes (bag-of-words).\n",
      "\n",
      "At the end we will:\n",
      "1. Show accuracy, precision, recall, f1-score, and confusion matrix.\n",
      "2. Explain what those metrics mean.\n",
      "3. Compare this model to my custom Naive Bayes from Part 1.\n",
      "\n"
     ]
    }
   ],
   "source": [
    "intro_text = \"\"\"\n",
    "CSC620 – Naive Bayes Text Classification (Sarcasm Detection)\n",
    "\n",
    "Goal:\n",
    "- Train and evaluate a Naive Bayes text classifier using scikit-learn.\n",
    "- Dataset: News Headlines Dataset for Sarcasm Detection.\n",
    "  'is_sarcastic' = 1 means sarcastic, 0 means not sarcastic.\n",
    "- Model: Multinomial Naive Bayes (bag-of-words).\n",
    "\n",
    "At the end we will:\n",
    "1. Show accuracy, precision, recall, f1-score, and confusion matrix.\n",
    "2. Explain what those metrics mean.\n",
    "3. Compare this model to my custom Naive Bayes from Part 1.\n",
    "\"\"\"\n",
    "\n",
    "print(intro_text)\n"
   ]
  },
  {
   "cell_type": "code",
   "execution_count": 5,
   "metadata": {},
   "outputs": [
    {
     "ename": "ModuleNotFoundError",
     "evalue": "No module named 'sklearn'",
     "output_type": "error",
     "traceback": [
      "\u001b[0;31m---------------------------------------------------------------------------\u001b[0m",
      "\u001b[0;31mModuleNotFoundError\u001b[0m                       Traceback (most recent call last)",
      "Cell \u001b[0;32mIn[5], line 9\u001b[0m\n\u001b[1;32m      1\u001b[0m \u001b[38;5;66;03m# Libraries we need:\u001b[39;00m\n\u001b[1;32m      2\u001b[0m \u001b[38;5;66;03m# - pandas: load and inspect the dataset\u001b[39;00m\n\u001b[1;32m      3\u001b[0m \u001b[38;5;66;03m# - train_test_split: split data into train and test sets\u001b[39;00m\n\u001b[1;32m      4\u001b[0m \u001b[38;5;66;03m# - CountVectorizer: convert text -> word count features\u001b[39;00m\n\u001b[1;32m      5\u001b[0m \u001b[38;5;66;03m# - MultinomialNB: Naive Bayes model for word counts\u001b[39;00m\n\u001b[1;32m      6\u001b[0m \u001b[38;5;66;03m# - metrics: evaluate predictions\u001b[39;00m\n\u001b[1;32m      8\u001b[0m \u001b[38;5;28;01mimport\u001b[39;00m\u001b[38;5;250m \u001b[39m\u001b[38;5;21;01mpandas\u001b[39;00m\u001b[38;5;250m \u001b[39m\u001b[38;5;28;01mas\u001b[39;00m\u001b[38;5;250m \u001b[39m\u001b[38;5;21;01mpd\u001b[39;00m\n\u001b[0;32m----> 9\u001b[0m \u001b[38;5;28;01mfrom\u001b[39;00m\u001b[38;5;250m \u001b[39m\u001b[38;5;21;01msklearn\u001b[39;00m\u001b[38;5;21;01m.\u001b[39;00m\u001b[38;5;21;01mmodel_selection\u001b[39;00m\u001b[38;5;250m \u001b[39m\u001b[38;5;28;01mimport\u001b[39;00m train_test_split\n\u001b[1;32m     10\u001b[0m \u001b[38;5;28;01mfrom\u001b[39;00m\u001b[38;5;250m \u001b[39m\u001b[38;5;21;01msklearn\u001b[39;00m\u001b[38;5;21;01m.\u001b[39;00m\u001b[38;5;21;01mfeature_extraction\u001b[39;00m\u001b[38;5;21;01m.\u001b[39;00m\u001b[38;5;21;01mtext\u001b[39;00m\u001b[38;5;250m \u001b[39m\u001b[38;5;28;01mimport\u001b[39;00m CountVectorizer\n\u001b[1;32m     11\u001b[0m \u001b[38;5;28;01mfrom\u001b[39;00m\u001b[38;5;250m \u001b[39m\u001b[38;5;21;01msklearn\u001b[39;00m\u001b[38;5;21;01m.\u001b[39;00m\u001b[38;5;21;01mnaive_bayes\u001b[39;00m\u001b[38;5;250m \u001b[39m\u001b[38;5;28;01mimport\u001b[39;00m MultinomialNB\n",
      "\u001b[0;31mModuleNotFoundError\u001b[0m: No module named 'sklearn'"
     ]
    }
   ],
   "source": [
    "# Libraries we need:\n",
    "# - pandas: load and inspect the dataset\n",
    "# - train_test_split: split data into train and test sets\n",
    "# - CountVectorizer: convert text -> word count features\n",
    "# - MultinomialNB: Naive Bayes model for word counts\n",
    "# - metrics: evaluate predictions\n",
    "\n",
    "import pandas as pd\n",
    "from sklearn.model_selection import train_test_split\n",
    "from sklearn.feature_extraction.text import CountVectorizer\n",
    "from sklearn.naive_bayes import MultinomialNB\n",
    "from sklearn.metrics import classification_report, confusion_matrix, accuracy_score\n"
   ]
  }
 ],
 "metadata": {
  "kernelspec": {
   "display_name": "Python 3",
   "language": "python",
   "name": "python3"
  },
  "language_info": {
   "codemirror_mode": {
    "name": "ipython",
    "version": 3
   },
   "file_extension": ".py",
   "mimetype": "text/x-python",
   "name": "python",
   "nbconvert_exporter": "python",
   "pygments_lexer": "ipython3",
   "version": "3.9.6"
  }
 },
 "nbformat": 4,
 "nbformat_minor": 2
}
